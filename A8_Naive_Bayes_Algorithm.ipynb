{
  "nbformat": 4,
  "nbformat_minor": 0,
  "metadata": {
    "colab": {
      "provenance": [],
      "authorship_tag": "ABX9TyNHqac/O9G0eSyszRgJqIxw",
      "include_colab_link": true
    },
    "kernelspec": {
      "name": "python3",
      "display_name": "Python 3"
    },
    "language_info": {
      "name": "python"
    }
  },
  "cells": [
    {
      "cell_type": "markdown",
      "metadata": {
        "id": "view-in-github",
        "colab_type": "text"
      },
      "source": [
        "<a href=\"https://colab.research.google.com/github/yashx007/ML/blob/main/A8_Naive_Bayes_Algorithm.ipynb\" target=\"_parent\"><img src=\"https://colab.research.google.com/assets/colab-badge.svg\" alt=\"Open In Colab\"/></a>"
      ]
    },
    {
      "cell_type": "code",
      "execution_count": null,
      "metadata": {
        "colab": {
          "base_uri": "https://localhost:8080/"
        },
        "id": "el7xoPAr9YyT",
        "outputId": "7f953e86-594f-4be5-fca9-9600ed7e981f"
      },
      "outputs": [
        {
          "output_type": "stream",
          "name": "stdout",
          "text": [
            "Predicted Decision: Pass\n"
          ]
        },
        {
          "output_type": "stream",
          "name": "stderr",
          "text": [
            "<ipython-input-4-21b96599d5ad>:17: FutureWarning: Downcasting behavior in `replace` is deprecated and will be removed in a future version. To retain the old behavior, explicitly call `result.infer_objects(copy=False)`. To opt-in to the future behavior, set `pd.set_option('future.no_silent_downcasting', True)`\n",
            "  df = df.replace(encoding)                  # Do NOT use inplace=True\n"
          ]
        }
      ],
      "source": [
        "import pandas as pd\n",
        "from sklearn.naive_bayes import GaussianNB\n",
        "\n",
        "# Define the dataset\n",
        "data = {\n",
        "    'Confident': ['Yes', 'Yes', 'No', 'No', 'Yes'],\n",
        "    'Studied': ['No', 'No', 'Yes', 'Yes', 'Yes'],\n",
        "    'Sick': ['No', 'Yes', 'Yes', 'No', 'Yes'],\n",
        "    'Result': ['Fail', 'Pass', 'Fail', 'Pass', 'Pass']\n",
        "}\n",
        "\n",
        "# Convert to DataFrame\n",
        "df = pd.DataFrame(data)\n",
        "\n",
        "# Encode categorical variables\n",
        "encoding = {'Yes': 1, 'No': 0, 'Pass': 1, 'Fail': 0}\n",
        "df = df.replace(encoding)                  # Do NOT use inplace=True\n",
        "df = df.infer_objects(copy=False)          # Fix the data type warning\n",
        "\n",
        "# Split features and target\n",
        "X = df[['Confident', 'Sick']]\n",
        "y = df['Result']\n",
        "\n",
        "# Train Naïve Bayes classifier\n",
        "model = GaussianNB()\n",
        "model.fit(X, y)\n",
        "\n",
        "# Define test sample (Confident = Yes, Sick = No)\n",
        "test_sample = pd.DataFrame([[1, 0]], columns=['Confident', 'Sick'])\n",
        "\n",
        "# Predict\n",
        "prediction = model.predict(test_sample)\n",
        "print(\"Predicted Decision:\", \"Pass\" if prediction[0] == 1 else \"Fail\")\n"
      ]
    }
  ]
}