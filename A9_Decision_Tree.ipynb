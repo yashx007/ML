{
  "nbformat": 4,
  "nbformat_minor": 0,
  "metadata": {
    "colab": {
      "provenance": []
    },
    "kernelspec": {
      "name": "python3",
      "display_name": "Python 3"
    },
    "language_info": {
      "name": "python"
    }
  },
  "cells": [
    {
      "cell_type": "code",
      "execution_count": null,
      "metadata": {
        "colab": {
          "base_uri": "https://localhost:8080/"
        },
        "id": "7Oo-IvD7-XFM",
        "outputId": "e8a8f0f2-e95e-40c3-9020-fb19fde84e4a"
      },
      "outputs": [
        {
          "output_type": "stream",
          "name": "stdout",
          "text": [
            "|--- Gender <= 0.50\n",
            "|   |--- Age <= 0.50\n",
            "|   |   |--- class: 0\n",
            "|   |--- Age >  0.50\n",
            "|   |   |--- Age <= 1.50\n",
            "|   |   |   |--- class: 1\n",
            "|   |   |--- Age >  1.50\n",
            "|   |   |   |--- Marital Status <= 0.50\n",
            "|   |   |   |   |--- class: 1\n",
            "|   |   |   |--- Marital Status >  0.50\n",
            "|   |   |   |   |--- class: 0\n",
            "|--- Gender >  0.50\n",
            "|   |--- Age <= 1.50\n",
            "|   |   |--- class: 1\n",
            "|   |--- Age >  1.50\n",
            "|   |   |--- Marital Status <= 0.50\n",
            "|   |   |   |--- class: 1\n",
            "|   |   |--- Marital Status >  0.50\n",
            "|   |   |   |--- class: 0\n",
            "\n",
            "Predicted Decision: Yes\n"
          ]
        },
        {
          "output_type": "stream",
          "name": "stderr",
          "text": [
            "<ipython-input-1-5f8492d86a5d>:24: FutureWarning: Downcasting behavior in `replace` is deprecated and will be removed in a future version. To retain the old behavior, explicitly call `result.infer_objects(copy=False)`. To opt-in to the future behavior, set `pd.set_option('future.no_silent_downcasting', True)`\n",
            "  df.replace(\n"
          ]
        }
      ],
      "source": [
        "import pandas as pd\n",
        "from sklearn.tree import DecisionTreeClassifier, export_text\n",
        "\n",
        "# Define the dataset\n",
        "data = {\n",
        "    'Age': ['<21', '<21', '21-35', '>35', '>35', '>35', '21-35', '<21', '<21', '>35', '<21', '21-35', '2135', '>35'],\n",
        "    'Income': ['High', 'High', 'High', 'Medium', 'Low', 'Low', 'Low', 'Medium', 'Low', 'Medium',\n",
        "               'Medium', 'Medium', 'High', 'Medium'],\n",
        "    'Gender': ['Male', 'Male', 'Male', 'Male', 'Female', 'Female', 'Female', 'Male', 'Female',\n",
        "               'Female', 'Female', 'Male', 'Female', 'Male'],\n",
        "    'Marital Status': ['Single', 'Married', 'Single', 'Single', 'Single', 'Married', 'Married', 'Single',\n",
        "                       'Married', 'Single', 'Married', 'Married', 'Single', 'Married'],\n",
        "    'Buys': ['No', 'No', 'Yes', 'Yes', 'Yes', 'No', 'Yes', 'No', 'Yes', 'Yes',\n",
        "             'Yes', 'Yes', 'Yes', 'No']\n",
        "}\n",
        "\n",
        "# Convert to DataFrame\n",
        "df = pd.DataFrame(data)\n",
        "\n",
        "# Handle typo in Age column (\"2135\" should be \"21-35\")\n",
        "df['Age'] = df['Age'].replace('2135', '21-35')\n",
        "\n",
        "# Encode categorical values into numerical\n",
        "df.replace(\n",
        "    {\n",
        "        'Age': {'<21': 0, '21-35': 1, '>35': 2},\n",
        "        'Income': {'Low': 0, 'Medium': 1, 'High': 2},\n",
        "        'Gender': {'Male': 0, 'Female': 1},\n",
        "        'Marital Status': {'Single': 0, 'Married': 1},\n",
        "        'Buys': {'No': 0, 'Yes': 1}\n",
        "    }, inplace=True\n",
        ")\n",
        "\n",
        "df = df.infer_objects(copy=False)\n",
        "\n",
        "# Split features and target\n",
        "X = df.drop(columns=['Buys'])\n",
        "y = df['Buys']\n",
        "\n",
        "# Train Decision Tree Classifier\n",
        "clf = DecisionTreeClassifier(criterion='entropy', random_state=0)\n",
        "clf.fit(X, y)\n",
        "\n",
        "# Print the decision tree\n",
        "tree_rules = export_text(clf, feature_names=list(X.columns))\n",
        "print(tree_rules)\n",
        "\n",
        "# Predict on a test sample\n",
        "test_sample = pd.DataFrame([[0, 0, 1, 1]], columns=X.columns)\n",
        "prediction = clf.predict(test_sample)\n",
        "\n",
        "print(\"Predicted Decision:\", \"Yes\" if prediction[0] == 1 else \"No\")\n"
      ]
    }
  ]
}