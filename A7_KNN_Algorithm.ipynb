{
  "nbformat": 4,
  "nbformat_minor": 0,
  "metadata": {
    "colab": {
      "provenance": [],
      "authorship_tag": "ABX9TyPzzXjUIyFmZPN4sKjxYRGs",
      "include_colab_link": true
    },
    "kernelspec": {
      "name": "python3",
      "display_name": "Python 3"
    },
    "language_info": {
      "name": "python"
    }
  },
  "cells": [
    {
      "cell_type": "markdown",
      "metadata": {
        "id": "view-in-github",
        "colab_type": "text"
      },
      "source": [
        "<a href=\"https://colab.research.google.com/github/yashx007/ML/blob/main/A7_KNN_Algorithm.ipynb\" target=\"_parent\"><img src=\"https://colab.research.google.com/assets/colab-badge.svg\" alt=\"Open In Colab\"/></a>"
      ]
    },
    {
      "cell_type": "code",
      "execution_count": null,
      "metadata": {
        "colab": {
          "base_uri": "https://localhost:8080/",
          "height": 703
        },
        "id": "DfR5EDjZ8YGd",
        "outputId": "4f2f0ead-69bb-42d9-fd59-6a7c96af0188"
      },
      "outputs": [
        {
          "output_type": "stream",
          "name": "stdout",
          "text": [
            "   X  Y   Class\n",
            "0  2  4  Orange\n",
            "1  4  2  Orange\n",
            "2  4  6  Orange\n",
            "3  6  4  Orange\n",
            "4  4  4    Blue\n",
            "5  6  2    Blue\n"
          ]
        },
        {
          "output_type": "display_data",
          "data": {
            "text/plain": [
              "<Figure size 600x600 with 1 Axes>"
            ],
            "image/png": "[encoded data removed]"
          },
          "metadata": {}
        },
        {
          "output_type": "stream",
          "name": "stdout",
          "text": [
            "The predicted class for point (6,6) is: Orange\n"
          ]
        }
      ],
      "source": [
        "import pandas as pd\n",
        "import numpy as np\n",
        "import matplotlib.pyplot as plt\n",
        "from sklearn.neighbors import KNeighborsClassifier\n",
        "from sklearn.preprocessing import LabelEncoder\n",
        "\n",
        "# Define the dataset\n",
        "data = {\n",
        "    \"X\": [2, 4, 4, 6, 4, 6],\n",
        "    \"Y\": [4, 2, 6, 4, 4, 2],\n",
        "    \"Class\": [\"Orange\", \"Orange\", \"Orange\", \"Orange\", \"Blue\", \"Blue\"]\n",
        "}\n",
        "df = pd.DataFrame(data)\n",
        "\n",
        "# Save as CSV\n",
        "df.to_csv(\"knn_dataset.csv\", index=False)\n",
        "print(df)\n",
        "\n",
        "# Assign colors based on class labels\n",
        "color_map = {\"Orange\": \"orange\", \"Blue\": \"blue\"}\n",
        "df[\"Color\"] = df[\"Class\"].map(color_map)\n",
        "\n",
        "# Create scatter plot\n",
        "plt.figure(figsize=(6, 6))\n",
        "plt.scatter(df[\"X\"], df[\"Y\"], c=df[\"Color\"], s=100, edgecolors='black')\n",
        "\n",
        "# Grid and labels\n",
        "plt.xticks(range(0, 11, 2))\n",
        "plt.yticks(range(0, 11, 2))\n",
        "plt.xlabel(\"X\")\n",
        "plt.ylabel(\"Y\")\n",
        "plt.title(\"Scatter Plot\")\n",
        "plt.grid(True)\n",
        "\n",
        "# Show plot\n",
        "plt.show()\n",
        "\n",
        "# Prepare data for KNN\n",
        "X = df[['X', 'Y']]       # Features\n",
        "y = df['Class']          # Labels\n",
        "\n",
        "# Encode labels\n",
        "le = LabelEncoder()\n",
        "y_encoded = le.fit_transform(y)\n",
        "\n",
        "# Train KNN classifier\n",
        "knn = KNeighborsClassifier(n_neighbors=3)\n",
        "knn.fit(X, y_encoded)\n",
        "\n",
        "# Predict class for new point (6, 6)\n",
        "new_point = pd.DataFrame([[6, 6]], columns=['X', 'Y'])\n",
        "predicted_class = knn.predict(new_point)\n",
        "\n",
        "# Convert prediction back to class label\n",
        "predicted_label = le.inverse_transform(predicted_class)\n",
        "print(f\"The predicted class for point (6,6) is: {predicted_label[0]}\")\n"
      ]
    }
  ]
}